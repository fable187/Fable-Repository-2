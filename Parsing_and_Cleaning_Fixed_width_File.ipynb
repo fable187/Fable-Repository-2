{
 "cells": [
  {
   "cell_type": "code",
   "execution_count": 218,
   "metadata": {
    "ExecuteTime": {
     "end_time": "2021-01-20T06:55:04.087124Z",
     "start_time": "2021-01-20T06:55:04.085011Z"
    }
   },
   "outputs": [],
   "source": [
    "# Goal this excercise:  To read in a fixed width parse a fixed width file into seperate fields.  \n",
    "# where each field is reformatted according to the key:value pair in a seperate file"
   ]
  },
  {
   "cell_type": "markdown",
   "metadata": {},
   "source": [
    "# Step 1:  Read in the File and the Column Values"
   ]
  },
  {
   "cell_type": "code",
   "execution_count": 219,
   "metadata": {
    "ExecuteTime": {
     "end_time": "2021-01-20T06:55:04.100412Z",
     "start_time": "2021-01-20T06:55:04.088809Z"
    }
   },
   "outputs": [
    {
     "data": {
      "text/html": [
       "<div>\n",
       "<style scoped>\n",
       "    .dataframe tbody tr th:only-of-type {\n",
       "        vertical-align: middle;\n",
       "    }\n",
       "\n",
       "    .dataframe tbody tr th {\n",
       "        vertical-align: top;\n",
       "    }\n",
       "\n",
       "    .dataframe thead th {\n",
       "        text-align: right;\n",
       "    }\n",
       "</style>\n",
       "<table border=\"1\" class=\"dataframe\">\n",
       "  <thead>\n",
       "    <tr style=\"text-align: right;\">\n",
       "      <th></th>\n",
       "      <th>Field Name</th>\n",
       "      <th>Column Size</th>\n",
       "    </tr>\n",
       "  </thead>\n",
       "  <tbody>\n",
       "    <tr>\n",
       "      <th>0</th>\n",
       "      <td>Filler</td>\n",
       "      <td>12</td>\n",
       "    </tr>\n",
       "    <tr>\n",
       "      <th>1</th>\n",
       "      <td>SSN</td>\n",
       "      <td>9</td>\n",
       "    </tr>\n",
       "    <tr>\n",
       "      <th>2</th>\n",
       "      <td>First Name</td>\n",
       "      <td>42</td>\n",
       "    </tr>\n",
       "    <tr>\n",
       "      <th>3</th>\n",
       "      <td>Last Name</td>\n",
       "      <td>23</td>\n",
       "    </tr>\n",
       "    <tr>\n",
       "      <th>4</th>\n",
       "      <td>Birth Date</td>\n",
       "      <td>25</td>\n",
       "    </tr>\n",
       "    <tr>\n",
       "      <th>5</th>\n",
       "      <td>Address Line 1</td>\n",
       "      <td>25</td>\n",
       "    </tr>\n",
       "    <tr>\n",
       "      <th>6</th>\n",
       "      <td>Address Line 2</td>\n",
       "      <td>22</td>\n",
       "    </tr>\n",
       "    <tr>\n",
       "      <th>7</th>\n",
       "      <td>City</td>\n",
       "      <td>11</td>\n",
       "    </tr>\n",
       "    <tr>\n",
       "      <th>8</th>\n",
       "      <td>State</td>\n",
       "      <td>17</td>\n",
       "    </tr>\n",
       "    <tr>\n",
       "      <th>9</th>\n",
       "      <td>Zip Code</td>\n",
       "      <td>11</td>\n",
       "    </tr>\n",
       "    <tr>\n",
       "      <th>10</th>\n",
       "      <td>Employee ID</td>\n",
       "      <td>17</td>\n",
       "    </tr>\n",
       "  </tbody>\n",
       "</table>\n",
       "</div>"
      ],
      "text/plain": [
       "        Field Name  Column Size\n",
       "0           Filler           12\n",
       "1              SSN            9\n",
       "2       First Name           42\n",
       "3        Last Name           23\n",
       "4       Birth Date           25\n",
       "5   Address Line 1           25\n",
       "6   Address Line 2           22\n",
       "7             City           11\n",
       "8            State           17\n",
       "9         Zip Code           11\n",
       "10     Employee ID           17"
      ]
     },
     "execution_count": 219,
     "metadata": {},
     "output_type": "execute_result"
    }
   ],
   "source": [
    "import pandas as pd\n",
    "import re\n",
    "from datetime import datetime as dt\n",
    "\n",
    "\n",
    "#this will be our list of Field names and their widths\n",
    "fields_df = pd.read_csv('Field_names.csv')\n",
    "fields_df\n",
    "\n",
    "\n",
    "\n",
    "# The dataframe displays column names in the column : Field Name.  \n",
    "# the Column Size is just the width of each column that the fixed width file will be using for its columns\n",
    "# clients often use large mainframe files that will use a key:value document like this to give \n",
    "# information on the fields in the fixed width file.  \n",
    "    "
   ]
  },
  {
   "cell_type": "code",
   "execution_count": 220,
   "metadata": {
    "ExecuteTime": {
     "end_time": "2021-01-20T06:55:04.135876Z",
     "start_time": "2021-01-20T06:55:04.102573Z"
    },
    "scrolled": true
   },
   "outputs": [
    {
     "data": {
      "text/html": [
       "<div>\n",
       "<style scoped>\n",
       "    .dataframe tbody tr th:only-of-type {\n",
       "        vertical-align: middle;\n",
       "    }\n",
       "\n",
       "    .dataframe tbody tr th {\n",
       "        vertical-align: top;\n",
       "    }\n",
       "\n",
       "    .dataframe thead th {\n",
       "        text-align: right;\n",
       "    }\n",
       "</style>\n",
       "<table border=\"1\" class=\"dataframe\">\n",
       "  <thead>\n",
       "    <tr style=\"text-align: right;\">\n",
       "      <th>Field Name</th>\n",
       "      <th>SSN</th>\n",
       "      <th>First Name</th>\n",
       "      <th>Last Name</th>\n",
       "      <th>Birth Date</th>\n",
       "      <th>Address Line 1</th>\n",
       "      <th>Address Line 2</th>\n",
       "      <th>City</th>\n",
       "      <th>State</th>\n",
       "      <th>Zip Code</th>\n",
       "      <th>Employee ID</th>\n",
       "    </tr>\n",
       "  </thead>\n",
       "  <tbody>\n",
       "    <tr>\n",
       "      <th>0</th>\n",
       "      <td>123456789</td>\n",
       "      <td>John</td>\n",
       "      <td>Doe123456789</td>\n",
       "      <td>4/23/1999</td>\n",
       "      <td>123 Elvin Drive</td>\n",
       "      <td>Dwarf Street</td>\n",
       "      <td>Honolee</td>\n",
       "      <td>Texas</td>\n",
       "      <td>77339</td>\n",
       "      <td>722192</td>\n",
       "    </tr>\n",
       "    <tr>\n",
       "      <th>1</th>\n",
       "      <td>822321115</td>\n",
       "      <td>John</td>\n",
       "      <td>Doe822321115</td>\n",
       "      <td>2/16/1999</td>\n",
       "      <td>123 Elvin Drive</td>\n",
       "      <td>Dwarf Street</td>\n",
       "      <td>Honolee</td>\n",
       "      <td>Texas</td>\n",
       "      <td>77339</td>\n",
       "      <td>840422</td>\n",
       "    </tr>\n",
       "    <tr>\n",
       "      <th>2</th>\n",
       "      <td>362208513</td>\n",
       "      <td>John</td>\n",
       "      <td>Doe362208513</td>\n",
       "      <td>12/23/1981</td>\n",
       "      <td>123 Elvin Drive</td>\n",
       "      <td>Dwarf Street</td>\n",
       "      <td>Honolee</td>\n",
       "      <td>Texas</td>\n",
       "      <td>77339</td>\n",
       "      <td>827434</td>\n",
       "    </tr>\n",
       "    <tr>\n",
       "      <th>3</th>\n",
       "      <td>505322754</td>\n",
       "      <td>John</td>\n",
       "      <td>Doe505322754</td>\n",
       "      <td>10/26/1990</td>\n",
       "      <td>123 Elvin Drive</td>\n",
       "      <td>Dwarf Street</td>\n",
       "      <td>Honolee</td>\n",
       "      <td>Texas</td>\n",
       "      <td>77339</td>\n",
       "      <td>304874</td>\n",
       "    </tr>\n",
       "    <tr>\n",
       "      <th>4</th>\n",
       "      <td>787795459</td>\n",
       "      <td>John</td>\n",
       "      <td>Doe787795459</td>\n",
       "      <td>4/25/1990</td>\n",
       "      <td>123 Elvin Drive</td>\n",
       "      <td>Dwarf Street</td>\n",
       "      <td>Honolee</td>\n",
       "      <td>Texas</td>\n",
       "      <td>77339</td>\n",
       "      <td>432056</td>\n",
       "    </tr>\n",
       "    <tr>\n",
       "      <th>...</th>\n",
       "      <td>...</td>\n",
       "      <td>...</td>\n",
       "      <td>...</td>\n",
       "      <td>...</td>\n",
       "      <td>...</td>\n",
       "      <td>...</td>\n",
       "      <td>...</td>\n",
       "      <td>...</td>\n",
       "      <td>...</td>\n",
       "      <td>...</td>\n",
       "    </tr>\n",
       "    <tr>\n",
       "      <th>494</th>\n",
       "      <td>123456789</td>\n",
       "      <td>John</td>\n",
       "      <td>Doe123456789</td>\n",
       "      <td>5/8/1993</td>\n",
       "      <td>123 Elvin Drive</td>\n",
       "      <td>Dwarf Street</td>\n",
       "      <td>Honolee</td>\n",
       "      <td>Texas</td>\n",
       "      <td>77339</td>\n",
       "      <td>346663</td>\n",
       "    </tr>\n",
       "    <tr>\n",
       "      <th>495</th>\n",
       "      <td>923723604</td>\n",
       "      <td>John</td>\n",
       "      <td>Doe923723604</td>\n",
       "      <td>6/24/1985</td>\n",
       "      <td>123 Elvin Drive</td>\n",
       "      <td>Dwarf Street</td>\n",
       "      <td>Honolee</td>\n",
       "      <td>Texas</td>\n",
       "      <td>77339</td>\n",
       "      <td>606121</td>\n",
       "    </tr>\n",
       "    <tr>\n",
       "      <th>496</th>\n",
       "      <td>776084656</td>\n",
       "      <td>John</td>\n",
       "      <td>Doe776084656</td>\n",
       "      <td>7/30/1989</td>\n",
       "      <td>123 Elvin Drive</td>\n",
       "      <td>Dwarf Street</td>\n",
       "      <td>Honolee</td>\n",
       "      <td>Texas</td>\n",
       "      <td>77339</td>\n",
       "      <td>854102</td>\n",
       "    </tr>\n",
       "    <tr>\n",
       "      <th>497</th>\n",
       "      <td>615567397</td>\n",
       "      <td>John</td>\n",
       "      <td>Doe615567397</td>\n",
       "      <td>5/20/1980</td>\n",
       "      <td>123 Elvin Drive</td>\n",
       "      <td>Dwarf Street</td>\n",
       "      <td>Honolee</td>\n",
       "      <td>Texas</td>\n",
       "      <td>77339</td>\n",
       "      <td>334743</td>\n",
       "    </tr>\n",
       "    <tr>\n",
       "      <th>498</th>\n",
       "      <td>162984399</td>\n",
       "      <td>John</td>\n",
       "      <td>Doe162984399</td>\n",
       "      <td>3/22/1986</td>\n",
       "      <td>123 Elvin Drive</td>\n",
       "      <td>Dwarf Street</td>\n",
       "      <td>Honolee</td>\n",
       "      <td>Texas</td>\n",
       "      <td>77339</td>\n",
       "      <td>876650</td>\n",
       "    </tr>\n",
       "  </tbody>\n",
       "</table>\n",
       "<p>499 rows × 10 columns</p>\n",
       "</div>"
      ],
      "text/plain": [
       "Field Name        SSN First Name     Last Name  Birth Date   Address Line 1  \\\n",
       "0           123456789       John  Doe123456789   4/23/1999  123 Elvin Drive   \n",
       "1           822321115       John  Doe822321115   2/16/1999  123 Elvin Drive   \n",
       "2           362208513       John  Doe362208513  12/23/1981  123 Elvin Drive   \n",
       "3           505322754       John  Doe505322754  10/26/1990  123 Elvin Drive   \n",
       "4           787795459       John  Doe787795459   4/25/1990  123 Elvin Drive   \n",
       "..                ...        ...           ...         ...              ...   \n",
       "494         123456789       John  Doe123456789    5/8/1993  123 Elvin Drive   \n",
       "495         923723604       John  Doe923723604   6/24/1985  123 Elvin Drive   \n",
       "496         776084656       John  Doe776084656   7/30/1989  123 Elvin Drive   \n",
       "497         615567397       John  Doe615567397   5/20/1980  123 Elvin Drive   \n",
       "498         162984399       John  Doe162984399   3/22/1986  123 Elvin Drive   \n",
       "\n",
       "Field Name Address Line 2     City  State  Zip Code  Employee ID  \n",
       "0            Dwarf Street  Honolee  Texas     77339       722192  \n",
       "1            Dwarf Street  Honolee  Texas     77339       840422  \n",
       "2            Dwarf Street  Honolee  Texas     77339       827434  \n",
       "3            Dwarf Street  Honolee  Texas     77339       304874  \n",
       "4            Dwarf Street  Honolee  Texas     77339       432056  \n",
       "..                    ...      ...    ...       ...          ...  \n",
       "494          Dwarf Street  Honolee  Texas     77339       346663  \n",
       "495          Dwarf Street  Honolee  Texas     77339       606121  \n",
       "496          Dwarf Street  Honolee  Texas     77339       854102  \n",
       "497          Dwarf Street  Honolee  Texas     77339       334743  \n",
       "498          Dwarf Street  Honolee  Texas     77339       876650  \n",
       "\n",
       "[499 rows x 10 columns]"
      ]
     },
     "execution_count": 220,
     "metadata": {},
     "output_type": "execute_result"
    }
   ],
   "source": [
    "# Next we read in the fixed width file\n",
    "# read in the file as a pandas dataframe, using the pd.read_fwf()\n",
    "# set the widths to be the fields_df Column Size field, this argument has to be a list, so we cast it as a list\n",
    "# finally we set header=None in order not to mistake the first row for column names in the file\n",
    "df =  pd.read_fwf('exampleHRData.csv', widths=list(fields_df['Column Size']), header=None) \n",
    "\n",
    "# here we are updating the dataframe's column names to match that of the key document\n",
    "df.columns = fields_df['Field Name']\n",
    "\n",
    "#since the first column is just a space filler, we drop this row\n",
    "df.drop('Filler', axis = 1, inplace = True)\n",
    "df\n",
    "\n",
    "\n"
   ]
  },
  {
   "cell_type": "markdown",
   "metadata": {
    "ExecuteTime": {
     "end_time": "2021-01-20T06:04:30.485082Z",
     "start_time": "2021-01-20T06:04:30.482822Z"
    }
   },
   "source": [
    "# Step 2:  Inspect the newly parsed data"
   ]
  },
  {
   "cell_type": "code",
   "execution_count": 221,
   "metadata": {
    "ExecuteTime": {
     "end_time": "2021-01-20T06:55:04.146724Z",
     "start_time": "2021-01-20T06:55:04.137437Z"
    }
   },
   "outputs": [
    {
     "name": "stdout",
     "output_type": "stream",
     "text": [
      "<class 'pandas.core.frame.DataFrame'>\n",
      "RangeIndex: 499 entries, 0 to 498\n",
      "Data columns (total 10 columns):\n",
      " #   Column          Non-Null Count  Dtype \n",
      "---  ------          --------------  ----- \n",
      " 0   SSN             499 non-null    int64 \n",
      " 1   First Name      499 non-null    object\n",
      " 2   Last Name       499 non-null    object\n",
      " 3   Birth Date      499 non-null    object\n",
      " 4   Address Line 1  499 non-null    object\n",
      " 5   Address Line 2  499 non-null    object\n",
      " 6   City            499 non-null    object\n",
      " 7   State           499 non-null    object\n",
      " 8   Zip Code        499 non-null    int64 \n",
      " 9   Employee ID     499 non-null    int64 \n",
      "dtypes: int64(3), object(7)\n",
      "memory usage: 39.1+ KB\n"
     ]
    }
   ],
   "source": [
    "#Inspecting the columns\n",
    "df.info()"
   ]
  },
  {
   "cell_type": "code",
   "execution_count": 222,
   "metadata": {
    "ExecuteTime": {
     "end_time": "2021-01-20T06:55:04.150615Z",
     "start_time": "2021-01-20T06:55:04.148235Z"
    }
   },
   "outputs": [],
   "source": [
    "# Looking at the info we can see a few updates are needed\n",
    "\n",
    "#that the SSN's are not in the xxx-xx-xxxx format\n",
    "# and also are in int64 datatype.  Meaning we could have the far left 0 for the ssn being cut short.  \n",
    "# for example:   000123456 , might be accidently be 123456.   \n",
    "\n",
    "# Also the Birth dates are not in the YYYY-MM-DD format, and they aren't date objects\n",
    "# and with further inspection, we can see that there are some invalid values, like 2/30/1996\n",
    "\n",
    "# Zip Codes are also int64 datatype.  We'll need an update similar to what we do to the SSN\n",
    "\n"
   ]
  },
  {
   "cell_type": "markdown",
   "metadata": {
    "ExecuteTime": {
     "end_time": "2021-01-20T06:05:05.356455Z",
     "start_time": "2021-01-20T06:05:05.354191Z"
    }
   },
   "source": [
    "# Step 3: Reformat columns that need updating"
   ]
  },
  {
   "cell_type": "markdown",
   "metadata": {
    "ExecuteTime": {
     "end_time": "2021-01-20T06:37:59.518597Z",
     "start_time": "2021-01-20T06:37:59.516355Z"
    }
   },
   "source": [
    "## Cleaning the SSN"
   ]
  },
  {
   "cell_type": "code",
   "execution_count": 223,
   "metadata": {
    "ExecuteTime": {
     "end_time": "2021-01-20T06:55:04.162440Z",
     "start_time": "2021-01-20T06:55:04.152112Z"
    }
   },
   "outputs": [
    {
     "data": {
      "text/plain": [
       "0      123-45-6789\n",
       "1      822-32-1115\n",
       "2      362-20-8513\n",
       "3      505-32-2754\n",
       "4      787-79-5459\n",
       "          ...     \n",
       "494    123-45-6789\n",
       "495    923-72-3604\n",
       "496    776-08-4656\n",
       "497    615-56-7397\n",
       "498    162-98-4399\n",
       "Name: SSN, Length: 499, dtype: object"
      ]
     },
     "execution_count": 223,
     "metadata": {},
     "output_type": "execute_result"
    }
   ],
   "source": [
    "#Cleaning up the SSNs we'll need to add a few 000's to the left of the SSN, then \n",
    "#take the right 9 digits to get the full number\n",
    "#we can do this with a lambda function\n",
    "\n",
    "df['SSN'] = df['SSN'].apply(lambda x: (\"000000\" + str(x))[-9:])\n",
    "#now the SSN field is a string field, so we can use anohter lambda function and just \n",
    "#reformat it with a dash\n",
    "df['SSN'] = df['SSN'].apply(lambda x: f\"{x[:3]}-{x[3:5]}-{x[5:]}\")\n",
    "df['SSN']"
   ]
  },
  {
   "cell_type": "code",
   "execution_count": 224,
   "metadata": {
    "ExecuteTime": {
     "end_time": "2021-01-20T06:55:04.178574Z",
     "start_time": "2021-01-20T06:55:04.165666Z"
    }
   },
   "outputs": [
    {
     "data": {
      "text/plain": [
       "0      77339\n",
       "1      77339\n",
       "2      77339\n",
       "3      77339\n",
       "4      77339\n",
       "       ...  \n",
       "494    77339\n",
       "495    77339\n",
       "496    77339\n",
       "497    77339\n",
       "498    77339\n",
       "Name: Zip Code, Length: 499, dtype: object"
      ]
     },
     "execution_count": 224,
     "metadata": {},
     "output_type": "execute_result"
    }
   ],
   "source": [
    "## Cleaning the zip codes\n",
    "\n",
    "df['Zip Code'] = df['Zip Code'].apply(lambda x: (\"000000\" +str(x))[-5:])\n",
    "df['Zip Code']"
   ]
  },
  {
   "cell_type": "markdown",
   "metadata": {
    "ExecuteTime": {
     "end_time": "2021-01-20T06:38:21.393858Z",
     "start_time": "2021-01-20T06:38:21.391550Z"
    }
   },
   "source": [
    "## Cleaning the Birthdate"
   ]
  },
  {
   "cell_type": "code",
   "execution_count": 225,
   "metadata": {
    "ExecuteTime": {
     "end_time": "2021-01-20T06:55:04.194952Z",
     "start_time": "2021-01-20T06:55:04.181102Z"
    }
   },
   "outputs": [
    {
     "data": {
      "text/plain": [
       "0     1999-04-23\n",
       "1     1999-02-16\n",
       "2     1981-12-23\n",
       "3     1990-10-26\n",
       "4     1990-04-25\n",
       "         ...    \n",
       "494   1993-05-08\n",
       "495   1985-06-24\n",
       "496   1989-07-30\n",
       "497   1980-05-20\n",
       "498   1986-03-22\n",
       "Name: Birth Date, Length: 499, dtype: datetime64[ns]"
      ]
     },
     "execution_count": 225,
     "metadata": {},
     "output_type": "execute_result"
    }
   ],
   "source": [
    "#we can make a function that will parse the birthdate and catch the bad february date in one sweep\n",
    "\n",
    "def parse_dates(text):\n",
    "    month = int(text.split('/')[0])\n",
    "    day = int(text.split('/')[1])\n",
    "    \n",
    "    #we are just moving the date 2/30, to 2/28.  We could also just move it to march 1st. \n",
    "    if day > 28 and month == 2:\n",
    "        day = 28\n",
    "        \n",
    "    year = int(text.split('/')[2])\n",
    "    return dt(year, month, day)\n",
    "\n",
    "#then just apply that function inside a lambda\n",
    "df['Birth Date'] = df['Birth Date'].apply(lambda x: parse_dates(x))\n",
    "df['Birth Date']"
   ]
  },
  {
   "cell_type": "markdown",
   "metadata": {
    "ExecuteTime": {
     "end_time": "2021-01-20T06:56:54.433761Z",
     "start_time": "2021-01-20T06:56:54.431578Z"
    }
   },
   "source": [
    "# Review the updates"
   ]
  },
  {
   "cell_type": "code",
   "execution_count": 227,
   "metadata": {
    "ExecuteTime": {
     "end_time": "2021-01-20T06:56:12.330008Z",
     "start_time": "2021-01-20T06:56:12.320865Z"
    }
   },
   "outputs": [
    {
     "name": "stdout",
     "output_type": "stream",
     "text": [
      "<class 'pandas.core.frame.DataFrame'>\n",
      "RangeIndex: 499 entries, 0 to 498\n",
      "Data columns (total 10 columns):\n",
      " #   Column          Non-Null Count  Dtype         \n",
      "---  ------          --------------  -----         \n",
      " 0   SSN             499 non-null    object        \n",
      " 1   First Name      499 non-null    object        \n",
      " 2   Last Name       499 non-null    object        \n",
      " 3   Birth Date      499 non-null    datetime64[ns]\n",
      " 4   Address Line 1  499 non-null    object        \n",
      " 5   Address Line 2  499 non-null    object        \n",
      " 6   City            499 non-null    object        \n",
      " 7   State           499 non-null    object        \n",
      " 8   Zip Code        499 non-null    object        \n",
      " 9   Employee ID     499 non-null    int64         \n",
      "dtypes: datetime64[ns](1), int64(1), object(8)\n",
      "memory usage: 39.1+ KB\n"
     ]
    }
   ],
   "source": [
    "df.info()"
   ]
  },
  {
   "cell_type": "code",
   "execution_count": 229,
   "metadata": {
    "ExecuteTime": {
     "end_time": "2021-01-20T06:57:31.554006Z",
     "start_time": "2021-01-20T06:57:31.527232Z"
    }
   },
   "outputs": [
    {
     "data": {
      "text/html": [
       "<div>\n",
       "<style scoped>\n",
       "    .dataframe tbody tr th:only-of-type {\n",
       "        vertical-align: middle;\n",
       "    }\n",
       "\n",
       "    .dataframe tbody tr th {\n",
       "        vertical-align: top;\n",
       "    }\n",
       "\n",
       "    .dataframe thead th {\n",
       "        text-align: right;\n",
       "    }\n",
       "</style>\n",
       "<table border=\"1\" class=\"dataframe\">\n",
       "  <thead>\n",
       "    <tr style=\"text-align: right;\">\n",
       "      <th>Field Name</th>\n",
       "      <th>SSN</th>\n",
       "      <th>First Name</th>\n",
       "      <th>Last Name</th>\n",
       "      <th>Birth Date</th>\n",
       "      <th>Address Line 1</th>\n",
       "      <th>Address Line 2</th>\n",
       "      <th>City</th>\n",
       "      <th>State</th>\n",
       "      <th>Zip Code</th>\n",
       "      <th>Employee ID</th>\n",
       "    </tr>\n",
       "  </thead>\n",
       "  <tbody>\n",
       "    <tr>\n",
       "      <th>0</th>\n",
       "      <td>123-45-6789</td>\n",
       "      <td>John</td>\n",
       "      <td>Doe123456789</td>\n",
       "      <td>1999-04-23</td>\n",
       "      <td>123 Elvin Drive</td>\n",
       "      <td>Dwarf Street</td>\n",
       "      <td>Honolee</td>\n",
       "      <td>Texas</td>\n",
       "      <td>77339</td>\n",
       "      <td>722192</td>\n",
       "    </tr>\n",
       "    <tr>\n",
       "      <th>1</th>\n",
       "      <td>822-32-1115</td>\n",
       "      <td>John</td>\n",
       "      <td>Doe822321115</td>\n",
       "      <td>1999-02-16</td>\n",
       "      <td>123 Elvin Drive</td>\n",
       "      <td>Dwarf Street</td>\n",
       "      <td>Honolee</td>\n",
       "      <td>Texas</td>\n",
       "      <td>77339</td>\n",
       "      <td>840422</td>\n",
       "    </tr>\n",
       "    <tr>\n",
       "      <th>2</th>\n",
       "      <td>362-20-8513</td>\n",
       "      <td>John</td>\n",
       "      <td>Doe362208513</td>\n",
       "      <td>1981-12-23</td>\n",
       "      <td>123 Elvin Drive</td>\n",
       "      <td>Dwarf Street</td>\n",
       "      <td>Honolee</td>\n",
       "      <td>Texas</td>\n",
       "      <td>77339</td>\n",
       "      <td>827434</td>\n",
       "    </tr>\n",
       "    <tr>\n",
       "      <th>3</th>\n",
       "      <td>505-32-2754</td>\n",
       "      <td>John</td>\n",
       "      <td>Doe505322754</td>\n",
       "      <td>1990-10-26</td>\n",
       "      <td>123 Elvin Drive</td>\n",
       "      <td>Dwarf Street</td>\n",
       "      <td>Honolee</td>\n",
       "      <td>Texas</td>\n",
       "      <td>77339</td>\n",
       "      <td>304874</td>\n",
       "    </tr>\n",
       "    <tr>\n",
       "      <th>4</th>\n",
       "      <td>787-79-5459</td>\n",
       "      <td>John</td>\n",
       "      <td>Doe787795459</td>\n",
       "      <td>1990-04-25</td>\n",
       "      <td>123 Elvin Drive</td>\n",
       "      <td>Dwarf Street</td>\n",
       "      <td>Honolee</td>\n",
       "      <td>Texas</td>\n",
       "      <td>77339</td>\n",
       "      <td>432056</td>\n",
       "    </tr>\n",
       "    <tr>\n",
       "      <th>...</th>\n",
       "      <td>...</td>\n",
       "      <td>...</td>\n",
       "      <td>...</td>\n",
       "      <td>...</td>\n",
       "      <td>...</td>\n",
       "      <td>...</td>\n",
       "      <td>...</td>\n",
       "      <td>...</td>\n",
       "      <td>...</td>\n",
       "      <td>...</td>\n",
       "    </tr>\n",
       "    <tr>\n",
       "      <th>494</th>\n",
       "      <td>123-45-6789</td>\n",
       "      <td>John</td>\n",
       "      <td>Doe123456789</td>\n",
       "      <td>1993-05-08</td>\n",
       "      <td>123 Elvin Drive</td>\n",
       "      <td>Dwarf Street</td>\n",
       "      <td>Honolee</td>\n",
       "      <td>Texas</td>\n",
       "      <td>77339</td>\n",
       "      <td>346663</td>\n",
       "    </tr>\n",
       "    <tr>\n",
       "      <th>495</th>\n",
       "      <td>923-72-3604</td>\n",
       "      <td>John</td>\n",
       "      <td>Doe923723604</td>\n",
       "      <td>1985-06-24</td>\n",
       "      <td>123 Elvin Drive</td>\n",
       "      <td>Dwarf Street</td>\n",
       "      <td>Honolee</td>\n",
       "      <td>Texas</td>\n",
       "      <td>77339</td>\n",
       "      <td>606121</td>\n",
       "    </tr>\n",
       "    <tr>\n",
       "      <th>496</th>\n",
       "      <td>776-08-4656</td>\n",
       "      <td>John</td>\n",
       "      <td>Doe776084656</td>\n",
       "      <td>1989-07-30</td>\n",
       "      <td>123 Elvin Drive</td>\n",
       "      <td>Dwarf Street</td>\n",
       "      <td>Honolee</td>\n",
       "      <td>Texas</td>\n",
       "      <td>77339</td>\n",
       "      <td>854102</td>\n",
       "    </tr>\n",
       "    <tr>\n",
       "      <th>497</th>\n",
       "      <td>615-56-7397</td>\n",
       "      <td>John</td>\n",
       "      <td>Doe615567397</td>\n",
       "      <td>1980-05-20</td>\n",
       "      <td>123 Elvin Drive</td>\n",
       "      <td>Dwarf Street</td>\n",
       "      <td>Honolee</td>\n",
       "      <td>Texas</td>\n",
       "      <td>77339</td>\n",
       "      <td>334743</td>\n",
       "    </tr>\n",
       "    <tr>\n",
       "      <th>498</th>\n",
       "      <td>162-98-4399</td>\n",
       "      <td>John</td>\n",
       "      <td>Doe162984399</td>\n",
       "      <td>1986-03-22</td>\n",
       "      <td>123 Elvin Drive</td>\n",
       "      <td>Dwarf Street</td>\n",
       "      <td>Honolee</td>\n",
       "      <td>Texas</td>\n",
       "      <td>77339</td>\n",
       "      <td>876650</td>\n",
       "    </tr>\n",
       "  </tbody>\n",
       "</table>\n",
       "<p>499 rows × 10 columns</p>\n",
       "</div>"
      ],
      "text/plain": [
       "Field Name          SSN First Name     Last Name Birth Date   Address Line 1  \\\n",
       "0           123-45-6789       John  Doe123456789 1999-04-23  123 Elvin Drive   \n",
       "1           822-32-1115       John  Doe822321115 1999-02-16  123 Elvin Drive   \n",
       "2           362-20-8513       John  Doe362208513 1981-12-23  123 Elvin Drive   \n",
       "3           505-32-2754       John  Doe505322754 1990-10-26  123 Elvin Drive   \n",
       "4           787-79-5459       John  Doe787795459 1990-04-25  123 Elvin Drive   \n",
       "..                  ...        ...           ...        ...              ...   \n",
       "494         123-45-6789       John  Doe123456789 1993-05-08  123 Elvin Drive   \n",
       "495         923-72-3604       John  Doe923723604 1985-06-24  123 Elvin Drive   \n",
       "496         776-08-4656       John  Doe776084656 1989-07-30  123 Elvin Drive   \n",
       "497         615-56-7397       John  Doe615567397 1980-05-20  123 Elvin Drive   \n",
       "498         162-98-4399       John  Doe162984399 1986-03-22  123 Elvin Drive   \n",
       "\n",
       "Field Name Address Line 2     City  State Zip Code  Employee ID  \n",
       "0            Dwarf Street  Honolee  Texas    77339       722192  \n",
       "1            Dwarf Street  Honolee  Texas    77339       840422  \n",
       "2            Dwarf Street  Honolee  Texas    77339       827434  \n",
       "3            Dwarf Street  Honolee  Texas    77339       304874  \n",
       "4            Dwarf Street  Honolee  Texas    77339       432056  \n",
       "..                    ...      ...    ...      ...          ...  \n",
       "494          Dwarf Street  Honolee  Texas    77339       346663  \n",
       "495          Dwarf Street  Honolee  Texas    77339       606121  \n",
       "496          Dwarf Street  Honolee  Texas    77339       854102  \n",
       "497          Dwarf Street  Honolee  Texas    77339       334743  \n",
       "498          Dwarf Street  Honolee  Texas    77339       876650  \n",
       "\n",
       "[499 rows x 10 columns]"
      ]
     },
     "execution_count": 229,
     "metadata": {},
     "output_type": "execute_result"
    }
   ],
   "source": [
    "df"
   ]
  },
  {
   "cell_type": "code",
   "execution_count": 230,
   "metadata": {
    "ExecuteTime": {
     "end_time": "2021-01-20T06:58:12.876583Z",
     "start_time": "2021-01-20T06:58:12.859553Z"
    }
   },
   "outputs": [],
   "source": [
    "# we can see the fields are using the correct datatypes\n",
    "# and looking at the output, they are correctly formatted.  \n",
    "# so we can just save the file to a csv and call it a success.\n",
    "df.to_csv('FormattedHR_File.csv')"
   ]
  },
  {
   "cell_type": "code",
   "execution_count": null,
   "metadata": {},
   "outputs": [],
   "source": []
  }
 ],
 "metadata": {
  "kernelspec": {
   "display_name": "Python 3",
   "language": "python",
   "name": "python3"
  },
  "language_info": {
   "codemirror_mode": {
    "name": "ipython",
    "version": 3
   },
   "file_extension": ".py",
   "mimetype": "text/x-python",
   "name": "python",
   "nbconvert_exporter": "python",
   "pygments_lexer": "ipython3",
   "version": "3.7.6"
  },
  "toc": {
   "base_numbering": 1,
   "nav_menu": {},
   "number_sections": true,
   "sideBar": true,
   "skip_h1_title": false,
   "title_cell": "Table of Contents",
   "title_sidebar": "Contents",
   "toc_cell": false,
   "toc_position": {},
   "toc_section_display": true,
   "toc_window_display": true
  },
  "varInspector": {
   "cols": {
    "lenName": 16,
    "lenType": 16,
    "lenVar": 40
   },
   "kernels_config": {
    "python": {
     "delete_cmd_postfix": "",
     "delete_cmd_prefix": "del ",
     "library": "var_list.py",
     "varRefreshCmd": "print(var_dic_list())"
    },
    "r": {
     "delete_cmd_postfix": ") ",
     "delete_cmd_prefix": "rm(",
     "library": "var_list.r",
     "varRefreshCmd": "cat(var_dic_list()) "
    }
   },
   "types_to_exclude": [
    "module",
    "function",
    "builtin_function_or_method",
    "instance",
    "_Feature"
   ],
   "window_display": false
  }
 },
 "nbformat": 4,
 "nbformat_minor": 4
}
